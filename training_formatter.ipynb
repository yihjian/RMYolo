{
 "cells": [
  {
   "cell_type": "code",
   "execution_count": 10,
   "metadata": {},
   "outputs": [],
   "source": [
    "import os\n",
    "import numpy as np"
   ]
  },
  {
   "cell_type": "code",
   "execution_count": 25,
   "metadata": {},
   "outputs": [
    {
     "output_type": "stream",
     "name": "stdout",
     "text": "['AllianceVsArtisans' 'DCVsRPS' 'HXVsBorn of Fire' 'JLVsCUBOT' 'JSVsHLL'\n 'LZAresVsLT' 'WMJVsLY']\n"
    }
   ],
   "source": [
    "temp = os.listdir(r'F:\\RM\\DJI ROCO\\robomaster_Central China Regional Competition\\image')\n",
    "temp = [t.split('_')[0] for t in temp]\n",
    "print(np.unique(temp))"
   ]
  },
  {
   "cell_type": "code",
   "execution_count": 13,
   "metadata": {},
   "outputs": [],
   "source": [
    "mapping = {\n",
    "    \"狼牙\": 'LY',\n",
    "    \"交龙\": 'JL',\n",
    "    \"火线\": 'HX',\n",
    "    \"电创\": 'DC',\n",
    "    \"速加网笃行\": 'JS',\n",
    "    \"领志科技\": \"LZ\",\n",
    "    \"雷霆\": \"LT\"\n",
    "}"
   ]
  },
  {
   "cell_type": "code",
   "execution_count": 23,
   "metadata": {
    "tags": [
     "outputPrepend",
     "outputPrepend",
     "outputPrepend",
     "outputPrepend",
     "outputPrepend",
     "outputPrepend",
     "outputPrepend",
     "outputPrepend",
     "outputPrepend",
     "outputPrepend",
     "outputPrepend"
    ]
   },
   "outputs": [
    {
     "output_type": "stream",
     "name": "stdout",
     "text": "_120.jpg\n狼牙\n交龙\n火线\n电创\n速加网笃行\n领志科技\n雷霆\nLZAresVsLT_BO2_2_121.jpg\n狼牙\n交龙\n火线\n电创\n速加网笃行\n领志科技\n雷霆\nLZAresVsLT_BO2_2_122.jpg\n狼牙\n交龙\n火线\n电创\n速加网笃行\n领志科技\n雷霆\nLZAresVsLT_BO2_2_123.jpg\n狼牙\n交龙\n火线\n电创\n速加网笃行\n领志科技\n雷霆\nLZAresVsLT_BO2_2_124.jpg\n狼牙\n交龙\n火线\n电创\n速加网笃行\n领志科技\n雷霆\nLZAresVsLT_BO2_2_125.jpg\n狼牙\n交龙\n火线\n电创\n速加网笃行\n领志科技\n雷霆\nLZAresVsLT_BO2_2_126.jpg\n狼牙\n交龙\n火线\n电创\n速加网笃行\n领志科技\n雷霆\nLZAresVsLT_BO2_2_127.jpg\n狼牙\n交龙\n火线\n电创\n速加网笃行\n领志科技\n雷霆\nLZAresVsLT_BO2_2_128.jpg\n狼牙\n交龙\n火线\n电创\n速加网笃行\n领志科技\n雷霆\nLZAresVsLT_BO2_2_129.jpg\n狼牙\n交龙\n火线\n电创\n速加网笃行\n领志科技\n雷霆\nLZAresVsLT_BO2_2_13.jpg\n狼牙\n交龙\n火线\n电创\n速加网笃行\n领志科技\n雷霆\nLZAresVsLT_BO2_2_130.jpg\n狼牙\n交龙\n火线\n电创\n速加网笃行\n领志科技\n雷霆\nLZAresVsLT_BO2_2_131.jpg\n狼牙\n交龙\n火线\n电创\n速加网笃行\n领志科技\n雷霆\nLZAresVsLT_BO2_2_132.jpg\n狼牙\n交龙\n火线\n电创\n速加网笃行\n领志科技\n雷霆\nLZAresVsLT_BO2_2_133.jpg\n狼牙\n交龙\n火线\n电创\n速加网笃行\n领志科技\n雷霆\nLZAresVsLT_BO2_2_134.jpg\n狼牙\n交龙\n火线\n电创\n速加网笃行\n领志科技\n雷霆\nLZAresVsLT_BO2_2_135.jpg\n狼牙\n交龙\n火线\n电创\n速加网笃行\n领志科技\n雷霆\nLZAresVsLT_BO2_2_136.jpg\n狼牙\n交龙\n火线\n电创\n速加网笃行\n领志科技\n雷霆\nLZAresVsLT_BO2_2_137.jpg\n狼牙\n交龙\n火线\n电创\n速加网笃行\n领志科技\n雷霆\nLZAresVsLT_BO2_2_138.jpg\n狼牙\n交龙\n火线\n电创\n速加网笃行\n领志科技\n雷霆\nLZAresVsLT_BO2_2_139.jpg\n狼牙\n交龙\n火线\n电创\n速加网笃行\n领志科技\n雷霆\nLZAresVsLT_BO2_2_14.jpg\n狼牙\n交龙\n火线\n电创\n速加网笃行\n领志科技\n雷霆\nLZAresVsLT_BO2_2_140.jpg\n狼牙\n交龙\n火线\n电创\n速加网笃行\n领志科技\n雷霆\nLZAresVsLT_BO2_2_141.jpg\n狼牙\n交龙\n火线\n电创\n速加网笃行\n领志科技\n雷霆\nLZAresVsLT_BO2_2_142.jpg\n狼牙\n交龙\n火线\n电创\n速加网笃行\n领志科技\n雷霆\nLZAresVsLT_BO2_2_143.jpg\n狼牙\n交龙\n火线\n电创\n速加网笃行\n领志科技\n雷霆\nLZAresVsLT_BO2_2_144.jpg\n狼牙\n交龙\n火线\n电创\n速加网笃行\n领志科技\n雷霆\nLZAresVsLT_BO2_2_145.jpg\n狼牙\n交龙\n火线\n电创\n速加网笃行\n领志科技\n雷霆\nLZAresVsLT_BO2_2_146.jpg\n狼牙\n交龙\n火线\n电创\n速加网笃行\n领志科技\n雷霆\nLZAresVsLT_BO2_2_147.jpg\n狼牙\n交龙\n火线\n电创\n速加网笃行\n领志科技\n雷霆\nLZAresVsLT_BO2_2_148.jpg\n狼牙\n交龙\n火线\n电创\n速加网笃行\n领志科技\n雷霆\nLZAresVsLT_BO2_2_149.jpg\n狼牙\n交龙\n火线\n电创\n速加网笃行\n领志科技\n雷霆\nLZAresVsLT_BO2_2_15.jpg\n狼牙\n交龙\n火线\n电创\n速加网笃行\n领志科技\n雷霆\nLZAresVsLT_BO2_2_150.jpg\n狼牙\n交龙\n火线\n电创\n速加网笃行\n领志科技\n雷霆\nLZAresVsLT_BO2_2_151.jpg\n狼牙\n交龙\n火线\n电创\n速加网笃行\n领志科技\n雷霆\nLZAresVsLT_BO2_2_152.jpg\n狼牙\n交龙\n火线\n电创\n速加网笃行\n领志科技\n雷霆\nLZAresVsLT_BO2_2_153.jpg\n狼牙\n交龙\n火线\n电创\n速加网笃行\n领志科技\n雷霆\nLZAresVsLT_BO2_2_154.jpg\n狼牙\n交龙\n火线\n电创\n速加网笃行\n领志科技\n雷霆\nLZAresVsLT_BO2_2_155.jpg\n狼牙\n交龙\n火线\n电创\n速加网笃行\n领志科技\n雷霆\nLZAresVsLT_BO2_2_156.jpg\n狼牙\n交龙\n火线\n电创\n速加网笃行\n领志科技\n雷霆\nLZAresVsLT_BO2_2_157.jpg\n狼牙\n交龙\n火线\n电创\n速加网笃行\n领志科技\n雷霆\nLZAresVsLT_BO2_2_158.jpg\n狼牙\n交龙\n火线\n电创\n速加网笃行\n领志科技\n雷霆\nLZAresVsLT_BO2_2_159.jpg\n狼牙\n交龙\n火线\n电创\n速加网笃行\n领志科技\n雷霆\nLZAresVsLT_BO2_2_16.jpg\n狼牙\n交龙\n火线\n电创\n速加网笃行\n领志科技\n雷霆\nLZAresVsLT_BO2_2_160.jpg\n狼牙\n交龙\n火线\n电创\n速加网笃行\n领志科技\n雷霆\nLZAresVsLT_BO2_2_161.jpg\n狼牙\n交龙\n火线\n电创\n速加网笃行\n领志科技\n雷霆\nLZAresVsLT_BO2_2_162.jpg\n狼牙\n交龙\n火线\n电创\n速加网笃行\n领志科技\n雷霆\nLZAresVsLT_BO2_2_163.jpg\n狼牙\n交龙\n火线\n电创\n速加网笃行\n领志科技\n雷霆\nLZAresVsLT_BO2_2_164.jpg\n狼牙\n交龙\n火线\n电创\n速加网笃行\n领志科技\n雷霆\nLZAresVsLT_BO2_2_165.jpg\n狼牙\n交龙\n火线\n电创\n速加网笃行\n领志科技\n雷霆\nLZAresVsLT_BO2_2_166.jpg\n狼牙\n交龙\n火线\n电创\n速加网笃行\n领志科技\n雷霆\nLZAresVsLT_BO2_2_167.jpg\n狼牙\n交龙\n火线\n电创\n速加网笃行\n领志科技\n雷霆\nLZAresVsLT_BO2_2_168.jpg\n狼牙\n交龙\n火线\n电创\n速加网笃行\n领志科技\n雷霆\nLZAresVsLT_BO2_2_169.jpg\n狼牙\n交龙\n火线\n电创\n速加网笃行\n领志科技\n雷霆\nLZAresVsLT_BO2_2_17.jpg\n狼牙\n交龙\n火线\n电创\n速加网笃行\n领志科技\n雷霆\nLZAresVsLT_BO2_2_170.jpg\n狼牙\n交龙\n火线\n电创\n速加网笃行\n领志科技\n雷霆\nLZAresVsLT_BO2_2_171.jpg\n狼牙\n交龙\n火线\n电创\n速加网笃行\n领志科技\n雷霆\nLZAresVsLT_BO2_2_172.jpg\n狼牙\n交龙\n火线\n电创\n速加网笃行\n领志科技\n雷霆\nLZAresVsLT_BO2_2_173.jpg\n狼牙\n交龙\n火线\n电创\n速加网笃行\n领志科技\n雷霆\nLZAresVsLT_BO2_2_174.jpg\n狼牙\n交龙\n火线\n电创\n速加网笃行\n领志科技\n雷霆\nLZAresVsLT_BO2_2_175.jpg\n狼牙\n交龙\n火线\n电创\n速加网笃行\n领志科技\n雷霆\nLZAresVsLT_BO2_2_176.jpg\n狼牙\n交龙\n火线\n电创\n速加网笃行\n领志科技\n雷霆\nLZAresVsLT_BO2_2_177.jpg\n狼牙\n交龙\n火线\n电创\n速加网笃行\n领志科技\n雷霆\nLZAresVsLT_BO2_2_178.jpg\n狼牙\n交龙\n火线\n电创\n速加网笃行\n领志科技\n雷霆\nLZAresVsLT_BO2_2_179.jpg\n狼牙\n交龙\n火线\n电创\n速加网笃行\n领志科技\n雷霆\nLZAresVsLT_BO2_2_18.jpg\n狼牙\n交龙\n火线\n电创\n速加网笃行\n领志科技\n雷霆\nLZAresVsLT_BO2_2_180.jpg\n狼牙\n交龙\n火线\n电创\n速加网笃行\n领志科技\n雷霆\nLZAresVsLT_BO2_2_181.jpg\n狼牙\n交龙\n火线\n电创\n速加网笃行\n领志科技\n雷霆\nLZAresVsLT_BO2_2_182.jpg\n狼牙\n交龙\n火线\n电创\n速加网笃行\n领志科技\n雷霆\nLZAresVsLT_BO2_2_183.jpg\n狼牙\n交龙\n火线\n电创\n速加网笃行\n领志科技\n雷霆\nLZAresVsLT_BO2_2_184.jpg\n狼牙\n交龙\n火线\n电创\n速加网笃行\n领志科技\n雷霆\nLZAresVsLT_BO2_2_185.jpg\n狼牙\n交龙\n火线\n电创\n速加网笃行\n领志科技\n雷霆\nLZAresVsLT_BO2_2_186.jpg\n狼牙\n交龙\n火线\n电创\n速加网笃行\n领志科技\n雷霆\nLZAresVsLT_BO2_2_187.jpg\n狼牙\n交龙\n火线\n电创\n速加网笃行\n领志科技\n雷霆\nLZAresVsLT_BO2_2_188.jpg\n狼牙\n交龙\n火线\n电创\n速加网笃行\n领志科技\n雷霆\nLZAresVsLT_BO2_2_189.jpg\n狼牙\n交龙\n火线\n电创\n速加网笃行\n领志科技\n雷霆\nLZAresVsLT_BO2_2_19.jpg\n狼牙\n交龙\n火线\n电创\n速加网笃行\n领志科技\n雷霆\nLZAresVsLT_BO2_2_190.jpg\n狼牙\n交龙\n火线\n电创\n速加网笃行\n领志科技\n雷霆\nLZAresVsLT_BO2_2_191.jpg\n狼牙\n交龙\n火线\n电创\n速加网笃行\n领志科技\n雷霆\nLZAresVsLT_BO2_2_192.jpg\n狼牙\n交龙\n火线\n电创\n速加网笃行\n领志科技\n雷霆\nLZAresVsLT_BO2_2_193.jpg\n狼牙\n交龙\n火线\n电创\n速加网笃行\n领志科技\n雷霆\nLZAresVsLT_BO2_2_194.jpg\n狼牙\n交龙\n火线\n电创\n速加网笃行\n领志科技\n雷霆\nLZAresVsLT_BO2_2_195.jpg\n狼牙\n交龙\n火线\n电创\n速加网笃行\n领志科技\n雷霆\nLZAresVsLT_BO2_2_196.jpg\n狼牙\n交龙\n火线\n电创\n速加网笃行\n领志科技\n雷霆\nLZAresVsLT_BO2_2_197.jpg\n狼牙\n交龙\n火线\n电创\n速加网笃行\n领志科技\n雷霆\nLZAresVsLT_BO2_2_198.jpg\n狼牙\n交龙\n火线\n电创\n速加网笃行\n领志科技\n雷霆\nLZAresVsLT_BO2_2_199.jpg\n狼牙\n交龙\n火线\n电创\n速加网笃行\n领志科技\n雷霆\nLZAresVsLT_BO2_2_2.jpg\n狼牙\n交龙\n火线\n电创\n速加网笃行\n领志科技\n雷霆\nLZAresVsLT_BO2_2_20.jpg\n狼牙\n交龙\n火线\n电创\n速加网笃行\n领志科技\n雷霆\nLZAresVsLT_BO2_2_200.jpg\n狼牙\n交龙\n火线\n电创\n速加网笃行\n领志科技\n雷霆\nLZAresVsLT_BO2_2_201.jpg\n狼牙\n交龙\n火线\n电创\n速加网笃行\n领志科技\n雷霆\nLZAresVsLT_BO2_2_202.jpg\n狼牙\n交龙\n火线\n电创\n速加网笃行\n领志科技\n雷霆\nLZAresVsLT_BO2_2_203.jpg\n狼牙\n交龙\n火线\n电创\n速加网笃行\n领志科技\n雷霆\nLZAresVsLT_BO2_2_204.jpg\n狼牙\n交龙\n火线\n电创\n速加网笃行\n领志科技\n雷霆\nLZAresVsLT_BO2_2_205.jpg\n狼牙\n交龙\n火线\n电创\n速加网笃行\n领志科技\n雷霆\nLZAresVsLT_BO2_2_206.jpg\n狼牙\n交龙\n火线\n电创\n速加网笃行\n领志科技\n雷霆\nLZAresVsLT_BO2_2_207.jpg\n狼牙\n交龙\n火线\n电创\n速加网笃行\n领志科技\n雷霆\nLZAresVsLT_BO2_2_208.jpg\n狼牙\n交龙\n火线\n电创\n速加网笃行\n领志科技\n雷霆\nLZAresVsLT_BO2_2_209.jpg\n狼牙\n交龙\n火线\n电创\n速加网笃行\n领志科技\n雷霆\nLZAresVsLT_BO2_2_21.jpg\n狼牙\n交龙\n火线\n电创\n速加网笃行\n领志科技\n雷霆\nLZAresVsLT_BO2_2_210.jpg\n狼牙\n交龙\n火线\n电创\n速加网笃行\n领志科技\n雷霆\nLZAresVsLT_BO2_2_211.jpg\n狼牙\n交龙\n火线\n电创\n速加网笃行\n领志科技\n雷霆\nLZAresVsLT_BO2_2_212.jpg\n狼牙\n交龙\n火线\n电创\n速加网笃行\n领志科技\n雷霆\nLZAresVsLT_BO2_2_213.jpg\n狼牙\n交龙\n火线\n电创\n速加网笃行\n领志科技\n雷霆\nLZAresVsLT_BO2_2_214.jpg\n狼牙\n交龙\n火线\n电创\n速加网笃行\n领志科技\n雷霆\nLZAresVsLT_BO2_2_215.jpg\n狼牙\n交龙\n火线\n电创\n速加网笃行\n领志科技\n雷霆\nLZAresVsLT_BO2_2_216.jpg\n狼牙\n交龙\n火线\n电创\n速加网笃行\n领志科技\n雷霆\nLZAresVsLT_BO2_2_217.jpg\n狼牙\n交龙\n火线\n电创\n速加网笃行\n领志科技\n雷霆\nLZAresVsLT_BO2_2_218.jpg\n狼牙\n交龙\n火线\n电创\n速加网笃行\n领志科技\n雷霆\nLZAresVsLT_BO2_2_219.jpg\n狼牙\n交龙\n火线\n电创\n速加网笃行\n领志科技\n雷霆\nLZAresVsLT_BO2_2_22.jpg\n狼牙\n交龙\n火线\n电创\n速加网笃行\n领志科技\n雷霆\nLZAresVsLT_BO2_2_220.jpg\n狼牙\n交龙\n火线\n电创\n速加网笃行\n领志科技\n雷霆\nLZAresVsLT_BO2_2_221.jpg\n狼牙\n交龙\n火线\n电创\n速加网笃行\n领志科技\n雷霆\nLZAresVsLT_BO2_2_222.jpg\n狼牙\n交龙\n火线\n电创\n速加网笃行\n领志科技\n雷霆\nLZAresVsLT_BO2_2_223.jpg\n狼牙\n交龙\n火线\n电创\n速加网笃行\n领志科技\n雷霆\nLZAresVsLT_BO2_2_224.jpg\n狼牙\n交龙\n火线\n电创\n速加网笃行\n领志科技\n雷霆\nLZAresVsLT_BO2_2_225.jpg\n狼牙\n交龙\n火线\n电创\n速加网笃行\n领志科技\n雷霆\nLZAresVsLT_BO2_2_226.jpg\n狼牙\n交龙\n火线\n电创\n速加网笃行\n领志科技\n雷霆\nLZAresVsLT_BO2_2_227.jpg\n狼牙\n交龙\n火线\n电创\n速加网笃行\n领志科技\n雷霆\nLZAresVsLT_BO2_2_228.jpg\n狼牙\n交龙\n火线\n电创\n速加网笃行\n领志科技\n雷霆\nLZAresVsLT_BO2_2_229.jpg\n狼牙\n交龙\n火线\n电创\n速加网笃行\n领志科技\n雷霆\nLZAresVsLT_BO2_2_23.jpg\n狼牙\n交龙\n火线\n电创\n速加网笃行\n领志科技\n雷霆\nLZAresVsLT_BO2_2_230.jpg\n狼牙\n交龙\n火线\n电创\n速加网笃行\n领志科技\n雷霆\nLZAresVsLT_BO2_2_231.jpg\n狼牙\n交龙\n火线\n电创\n速加网笃行\n领志科技\n雷霆\nLZAresVsLT_BO2_2_232.jpg\n狼牙\n交龙\n火线\n电创\n速加网笃行\n领志科技\n雷霆\nLZAresVsLT_BO2_2_233.jpg\n狼牙\n交龙\n火线\n电创\n速加网笃行\n领志科技\n雷霆\nLZAresVsLT_BO2_2_234.jpg\n狼牙\n交龙\n火线\n电创\n速加网笃行\n领志科技\n雷霆\nLZAresVsLT_BO2_2_235.jpg\n狼牙\n交龙\n火线\n电创\n速加网笃行\n领志科技\n雷霆\nLZAresVsLT_BO2_2_236.jpg\n狼牙\n交龙\n火线\n电创\n速加网笃行\n领志科技\n雷霆\nLZAresVsLT_BO2_2_237.jpg\n狼牙\n交龙\n火线\n电创\n速加网笃行\n领志科技\n雷霆\nLZAresVsLT_BO2_2_238.jpg\n狼牙\n交龙\n火线\n电创\n速加网笃行\n领志科技\n雷霆\nLZAresVsLT_BO2_2_239.jpg\n狼牙\n交龙\n火线\n电创\n速加网笃行\n领志科技\n雷霆\nLZAresVsLT_BO2_2_24.jpg\n狼牙\n交龙\n火线\n电创\n速加网笃行\n领志科技\n雷霆\nLZAresVsLT_BO2_2_240.jpg\n狼牙\n交龙\n火线\n电创\n速加网笃行\n领志科技\n雷霆\nLZAresVsLT_BO2_2_241.jpg\n狼牙\n交龙\n火线\n电创\n速加网笃行\n领志科技\n雷霆\nLZAresVsLT_BO2_2_242.jpg\n狼牙\n交龙\n火线\n电创\n速加网笃行\n领志科技\n雷霆\nLZAresVsLT_BO2_2_243.jpg\n狼牙\n交龙\n火线\n电创\n速加网笃行\n领志科技\n雷霆\nLZAresVsLT_BO2_2_244.jpg\n狼牙\n交龙\n火线\n电创\n速加网笃行\n领志科技\n雷霆\nLZAresVsLT_BO2_2_245.jpg\n狼牙\n交龙\n火线\n电创\n速加网笃行\n领志科技\n雷霆\nLZAresVsLT_BO2_2_246.jpg\n狼牙\n交龙\n火线\n电创\n速加网笃行\n领志科技\n雷霆\nLZAresVsLT_BO2_2_247.jpg\n狼牙\n交龙\n火线\n电创\n速加网笃行\n领志科技\n雷霆\nLZAresVsLT_BO2_2_248.jpg\n狼牙\n交龙\n火线\n电创\n速加网笃行\n领志科技\n雷霆\nLZAresVsLT_BO2_2_249.jpg\n狼牙\n交龙\n火线\n电创\n速加网笃行\n领志科技\n雷霆\nLZAresVsLT_BO2_2_25.jpg\n狼牙\n交龙\n火线\n电创\n速加网笃行\n领志科技\n雷霆\nLZAresVsLT_BO2_2_250.jpg\n狼牙\n交龙\n火线\n电创\n速加网笃行\n领志科技\n雷霆\nLZAresVsLT_BO2_2_251.jpg\n狼牙\n交龙\n火线\n电创\n速加网笃行\n领志科技\n雷霆\nLZAresVsLT_BO2_2_252.jpg\n狼牙\n交龙\n火线\n电创\n速加网笃行\n领志科技\n雷霆\nLZAresVsLT_BO2_2_253.jpg\n狼牙\n交龙\n火线\n电创\n速加网笃行\n领志科技\n雷霆\nLZAresVsLT_BO2_2_254.jpg\n狼牙\n交龙\n火线\n电创\n速加网笃行\n领志科技\n雷霆\nLZAresVsLT_BO2_2_255.jpg\n狼牙\n交龙\n火线\n电创\n速加网笃行\n领志科技\n雷霆\nLZAresVsLT_BO2_2_256.jpg\n狼牙\n交龙\n火线\n电创\n速加网笃行\n领志科技\n雷霆\nLZAresVsLT_BO2_2_257.jpg\n狼牙\n交龙\n火线\n电创\n速加网笃行\n领志科技\n雷霆\nLZAresVsLT_BO2_2_258.jpg\n狼牙\n交龙\n火线\n电创\n速加网笃行\n领志科技\n雷霆\nLZAresVsLT_BO2_2_259.jpg\n狼牙\n交龙\n火线\n电创\n速加网笃行\n领志科技\n雷霆\nLZAresVsLT_BO2_2_26.jpg\n狼牙\n交龙\n火线\n电创\n速加网笃行\n领志科技\n雷霆\nLZAresVsLT_BO2_2_260.jpg\n狼牙\n交龙\n火线\n电创\n速加网笃行\n领志科技\n雷霆\nLZAresVsLT_BO2_2_261.jpg\n狼牙\n交龙\n火线\n电创\n速加网笃行\n领志科技\n雷霆\nLZAresVsLT_BO2_2_262.jpg\n狼牙\n交龙\n火线\n电创\n速加网笃行\n领志科技\n雷霆\nLZAresVsLT_BO2_2_263.jpg\n狼牙\n交龙\n火线\n电创\n速加网笃行\n领志科技\n雷霆\nLZAresVsLT_BO2_2_264.jpg\n狼牙\n交龙\n火线\n电创\n速加网笃行\n领志科技\n雷霆\nLZAresVsLT_BO2_2_265.jpg\n狼牙\n交龙\n火线\n电创\n速加网笃行\n领志科技\n雷霆\nLZAresVsLT_BO2_2_266.jpg\n狼牙\n交龙\n火线\n电创\n速加网笃行\n领志科技\n雷霆\nLZAresVsLT_BO2_2_267.jpg\n狼牙\n交龙\n火线\n电创\n速加网笃行\n领志科技\n雷霆\nLZAresVsLT_BO2_2_268.jpg\n狼牙\n交龙\n火线\n电创\n速加网笃行\n领志科技\n雷霆\nLZAresVsLT_BO2_2_269.jpg\n狼牙\n交龙\n火线\n电创\n速加网笃行\n领志科技\n雷霆\nLZAresVsLT_BO2_2_27.jpg\n狼牙\n交龙\n火线\n电创\n速加网笃行\n领志科技\n雷霆\nLZAresVsLT_BO2_2_270.jpg\n狼牙\n交龙\n火线\n电创\n速加网笃行\n领志科技\n雷霆\nLZAresVsLT_BO2_2_271.jpg\n狼牙\n交龙\n火线\n电创\n速加网笃行\n领志科技\n雷霆\nLZAresVsLT_BO2_2_272.jpg\n狼牙\n交龙\n火线\n电创\n速加网笃行\n领志科技\n雷霆\nLZAresVsLT_BO2_2_273.jpg\n狼牙\n交龙\n火线\n电创\n速加网笃行\n领志科技\n雷霆\nLZAresVsLT_BO2_2_274.jpg\n狼牙\n交龙\n火线\n电创\n速加网笃行\n领志科技\n雷霆\nLZAresVsLT_BO2_2_275.jpg\n狼牙\n交龙\n火线\n电创\n速加网笃行\n领志科技\n雷霆\nLZAresVsLT_BO2_2_276.jpg\n狼牙\n交龙\n火线\n电创\n速加网笃行\n领志科技\n雷霆\nLZAresVsLT_BO2_2_277.jpg\n狼牙\n交龙\n火线\n电创\n速加网笃行\n领志科技\n雷霆\nLZAresVsLT_BO2_2_278.jpg\n狼牙\n交龙\n火线\n电创\n速加网笃行\n领志科技\n雷霆\nLZAresVsLT_BO2_2_279.jpg\n狼牙\n交龙\n火线\n电创\n速加网笃行\n领志科技\n雷霆\nLZAresVsLT_BO2_2_28.jpg\n狼牙\n交龙\n火线\n电创\n速加网笃行\n领志科技\n雷霆\nLZAresVsLT_BO2_2_280.jpg\n狼牙\n交龙\n火线\n电创\n速加网笃行\n领志科技\n雷霆\nLZAresVsLT_BO2_2_281.jpg\n狼牙\n交龙\n火线\n电创\n速加网笃行\n领志科技\n雷霆\nLZAresVsLT_BO2_2_282.jpg\n狼牙\n交龙\n火线\n电创\n速加网笃行\n领志科技\n雷霆\nLZAresVsLT_BO2_2_283.jpg\n狼牙\n交龙\n火线\n电创\n速加网笃行\n领志科技\n雷霆\nLZAresVsLT_BO2_2_284.jpg\n狼牙\n交龙\n火线\n电创\n速加网笃行\n领志科技\n雷霆\nLZAresVsLT_BO2_2_285.jpg\n狼牙\n交龙\n火线\n电创\n速加网笃行\n领志科技\n雷霆\nLZAresVsLT_BO2_2_286.jpg\n狼牙\n交龙\n火线\n电创\n速加网笃行\n领志科技\n雷霆\nLZAresVsLT_BO2_2_287.jpg\n狼牙\n交龙\n火线\n电创\n速加网笃行\n领志科技\n雷霆\nLZAresVsLT_BO2_2_288.jpg\n狼牙\n交龙\n火线\n电创\n速加网笃行\n领志科技\n雷霆\nLZAresVsLT_BO2_2_289.jpg\n狼牙\n交龙\n火线\n电创\n速加网笃行\n领志科技\n雷霆\nLZAresVsLT_BO2_2_29.jpg\n狼牙\n交龙\n火线\n电创\n速加网笃行\n领志科技\n雷霆\nLZAresVsLT_BO2_2_290.jpg\n狼牙\n交龙\n火线\n电创\n速加网笃行\n领志科技\n雷霆\nLZAresVsLT_BO2_2_291.jpg\n狼牙\n交龙\n火线\n电创\n速加网笃行\n领志科技\n雷霆\nLZAresVsLT_BO2_2_292.jpg\n狼牙\n交龙\n火线\n电创\n速加网笃行\n领志科技\n雷霆\nLZAresVsLT_BO2_2_293.jpg\n狼牙\n交龙\n火线\n电创\n速加网笃行\n领志科技\n雷霆\nLZAresVsLT_BO2_2_294.jpg\n狼牙\n交龙\n火线\n电创\n速加网笃行\n领志科技\n雷霆\nLZAresVsLT_BO2_2_295.jpg\n狼牙\n交龙\n火线\n电创\n速加网笃行\n领志科技\n雷霆\nLZAresVsLT_BO2_2_296.jpg\n狼牙\n交龙\n火线\n电创\n速加网笃行\n领志科技\n雷霆\nLZAresVsLT_BO2_2_297.jpg\n狼牙\n交龙\n火线\n电创\n速加网笃行\n领志科技\n雷霆\nLZAresVsLT_BO2_2_298.jpg\n狼牙\n交龙\n火线\n电创\n速加网笃行\n领志科技\n雷霆\nLZAresVsLT_BO2_2_299.jpg\n狼牙\n交龙\n火线\n电创\n速加网笃行\n领志科技\n雷霆\nLZAresVsLT_BO2_2_3.jpg\n狼牙\n交龙\n火线\n电创\n速加网笃行\n领志科技\n雷霆\nLZAresVsLT_BO2_2_30.jpg\n狼牙\n交龙\n火线\n电创\n速加网笃行\n领志科技\n雷霆\nLZAresVsLT_BO2_2_300.jpg\n狼牙\n交龙\n火线\n电创\n速加网笃行\n领志科技\n雷霆\nLZAresVsLT_BO2_2_301.jpg\n狼牙\n交龙\n火线\n电创\n速加网笃行\n领志科技\n雷霆\nLZAresVsLT_BO2_2_302.jpg\n狼牙\n交龙\n火线\n电创\n速加网笃行\n领志科技\n雷霆\nLZAresVsLT_BO2_2_303.jpg\n狼牙\n交龙\n火线\n电创\n速加网笃行\n领志科技\n雷霆\nLZAresVsLT_BO2_2_304.jpg\n狼牙\n交龙\n火线\n电创\n速加网笃行\n领志科技\n雷霆\nLZAresVsLT_BO2_2_305.jpg\n狼牙\n交龙\n火线\n电创\n速加网笃行\n领志科技\n雷霆\nLZAresVsLT_BO2_2_306.jpg\n狼牙\n交龙\n火线\n电创\n速加网笃行\n领志科技\n雷霆\nLZAresVsLT_BO2_2_307.jpg\n狼牙\n交龙\n火线\n电创\n速加网笃行\n领志科技\n雷霆\nLZAresVsLT_BO2_2_308.jpg\n狼牙\n交龙\n火线\n电创\n速加网笃行\n领志科技\n雷霆\nLZAresVsLT_BO2_2_309.jpg\n狼牙\n交龙\n火线\n电创\n速加网笃行\n领志科技\n雷霆\nLZAresVsLT_BO2_2_31.jpg\n狼牙\n交龙\n火线\n电创\n速加网笃行\n领志科技\n雷霆\nLZAresVsLT_BO2_2_310.jpg\n狼牙\n交龙\n火线\n电创\n速加网笃行\n领志科技\n雷霆\nLZAresVsLT_BO2_2_311.jpg\n狼牙\n交龙\n火线\n电创\n速加网笃行\n领志科技\n雷霆\nLZAresVsLT_BO2_2_312.jpg\n狼牙\n交龙\n火线\n电创\n速加网笃行\n领志科技\n雷霆\nLZAresVsLT_BO2_2_313.jpg\n狼牙\n交龙\n火线\n电创\n速加网笃行\n领志科技\n雷霆\nLZAresVsLT_BO2_2_314.jpg\n狼牙\n交龙\n火线\n电创\n速加网笃行\n领志科技\n雷霆\nLZAresVsLT_BO2_2_315.jpg\n狼牙\n交龙\n火线\n电创\n速加网笃行\n领志科技\n雷霆\nLZAresVsLT_BO2_2_316.jpg\n狼牙\n交龙\n火线\n电创\n速加网笃行\n领志科技\n雷霆\nLZAresVsLT_BO2_2_317.jpg\n狼牙\n交龙\n火线\n电创\n速加网笃行\n领志科技\n雷霆\nLZAresVsLT_BO2_2_318.jpg\n狼牙\n交龙\n火线\n电创\n速加网笃行\n领志科技\n雷霆\nLZAresVsLT_BO2_2_319.jpg\n狼牙\n交龙\n火线\n电创\n速加网笃行\n领志科技\n雷霆\nLZAresVsLT_BO2_2_32.jpg\n狼牙\n交龙\n火线\n电创\n速加网笃行\n领志科技\n雷霆\nLZAresVsLT_BO2_2_320.jpg\n狼牙\n交龙\n火线\n电创\n速加网笃行\n领志科技\n雷霆\nLZAresVsLT_BO2_2_321.jpg\n狼牙\n交龙\n火线\n电创\n速加网笃行\n领志科技\n雷霆\nLZAresVsLT_BO2_2_322.jpg\n狼牙\n交龙\n火线\n电创\n速加网笃行\n领志科技\n雷霆\nLZAresVsLT_BO2_2_323.jpg\n狼牙\n交龙\n火线\n电创\n速加网笃行\n领志科技\n雷霆\nLZAresVsLT_BO2_2_324.jpg\n狼牙\n交龙\n火线\n电创\n速加网笃行\n领志科技\n雷霆\nLZAresVsLT_BO2_2_325.jpg\n狼牙\n交龙\n火线\n电创\n速加网笃行\n领志科技\n雷霆\nLZAresVsLT_BO2_2_326.jpg\n狼牙\n交龙\n火线\n电创\n速加网笃行\n领志科技\n雷霆\nLZAresVsLT_BO2_2_327.jpg\n狼牙\n交龙\n火线\n电创\n速加网笃行\n领志科技\n雷霆\nLZAresVsLT_BO2_2_328.jpg\n狼牙\n交龙\n火线\n电创\n速加网笃行\n领志科技\n雷霆\nLZAresVsLT_BO2_2_329.jpg\n狼牙\n交龙\n火线\n电创\n速加网笃行\n领志科技\n雷霆\nLZAresVsLT_BO2_2_33.jpg\n狼牙\n交龙\n火线\n电创\n速加网笃行\n领志科技\n雷霆\nLZAresVsLT_BO2_2_330.jpg\n狼牙\n交龙\n火线\n电创\n速加网笃行\n领志科技\n雷霆\nLZAresVsLT_BO2_2_331.jpg\n狼牙\n交龙\n火线\n电创\n速加网笃行\n领志科技\n雷霆\nLZAresVsLT_BO2_2_332.jpg\n狼牙\n交龙\n火线\n电创\n速加网笃行\n领志科技\n雷霆\nLZAresVsLT_BO2_2_333.jpg\n狼牙\n交龙\n火线\n电创\n速加网笃行\n领志科技\n雷霆\nLZAresVsLT_BO2_2_334.jpg\n狼牙\n交龙\n火线\n电创\n速加网笃行\n领志科技\n雷霆\nLZAresVsLT_BO2_2_335.jpg\n狼牙\n交龙\n火线\n电创\n速加网笃行\n领志科技\n雷霆\nLZAresVsLT_BO2_2_336.jpg\n狼牙\n交龙\n火线\n电创\n速加网笃行\n领志科技\n雷霆\nLZAresVsLT_BO2_2_337.jpg\n狼牙\n交龙\n火线\n电创\n速加网笃行\n领志科技\n雷霆\nLZAresVsLT_BO2_2_338.jpg\n狼牙\n交龙\n火线\n电创\n速加网笃行\n领志科技\n雷霆\nLZAresVsLT_BO2_2_339.jpg\n狼牙\n交龙\n火线\n电创\n速加网笃行\n领志科技\n雷霆\nLZAresVsLT_BO2_2_34.jpg\n狼牙\n交龙\n火线\n电创\n速加网笃行\n领志科技\n雷霆\nLZAresVsLT_BO2_2_340.jpg\n狼牙\n交龙\n火线\n电创\n速加网笃行\n领志科技\n雷霆\nLZAresVsLT_BO2_2_341.jpg\n狼牙\n交龙\n火线\n电创\n速加网笃行\n领志科技\n雷霆\nLZAresVsLT_BO2_2_342.jpg\n狼牙\n交龙\n火线\n电创\n速加网笃行\n领志科技\n雷霆\nLZAresVsLT_BO2_2_343.jpg\n狼牙\n交龙\n火线\n电创\n速加网笃行\n领志科技\n雷霆\nLZAresVsLT_BO2_2_344.jpg\n狼牙\n交龙\n火线\n电创\n速加网笃行\n领志科技\n雷霆\nLZAresVsLT_BO2_2_345.jpg\n狼牙\n交龙\n火线\n电创\n速加网笃行\n领志科技\n雷霆\nLZAresVsLT_BO2_2_346.jpg\n狼牙\n交龙\n火线\n电创\n速加网笃行\n领志科技\n雷霆\nLZAresVsLT_BO2_2_347.jpg\n狼牙\n交龙\n火线\n电创\n速加网笃行\n领志科技\n雷霆\nLZAresVsLT_BO2_2_348.jpg\n狼牙\n交龙\n火线\n电创\n速加网笃行\n领志科技\n雷霆\nLZAresVsLT_BO2_2_349.jpg\n狼牙\n交龙\n火线\n电创\n速加网笃行\n领志科技\n雷霆\nLZAresVsLT_BO2_2_35.jpg\n狼牙\n交龙\n火线\n电创\n速加网笃行\n领志科技\n雷霆\nLZAresVsLT_BO2_2_350.jpg\n狼牙\n交龙\n火线\n电创\n速加网笃行\n领志科技\n雷霆\nLZAresVsLT_BO2_2_351.jpg\n狼牙\n交龙\n火线\n电创\n速加网笃行\n领志科技\n雷霆\nLZAresVsLT_BO2_2_352.jpg\n狼牙\n交龙\n火线\n电创\n速加网笃行\n领志科技\n雷霆\nLZAresVsLT_BO2_2_353.jpg\n狼牙\n交龙\n火线\n电创\n速加网笃行\n领志科技\n雷霆\nLZAresVsLT_BO2_2_354.jpg\n狼牙\n交龙\n火线\n电创\n速加网笃行\n领志科技\n雷霆\nLZAresVsLT_BO2_2_355.jpg\n狼牙\n交龙\n火线\n电创\n速加网笃行\n领志科技\n雷霆\nLZAresVsLT_BO2_2_356.jpg\n狼牙\n交龙\n火线\n电创\n速加网笃行\n领志科技\n雷霆\nLZAresVsLT_BO2_2_357.jpg\n狼牙\n交龙\n火线\n电创\n速加网笃行\n领志科技\n雷霆\nLZAresVsLT_BO2_2_358.jpg\n狼牙\n交龙\n火线\n电创\n速加网笃行\n领志科技\n雷霆\nLZAresVsLT_BO2_2_359.jpg\n狼牙\n交龙\n火线\n电创\n速加网笃行\n领志科技\n雷霆\nLZAresVsLT_BO2_2_36.jpg\n狼牙\n交龙\n火线\n电创\n速加网笃行\n领志科技\n雷霆\nLZAresVsLT_BO2_2_360.jpg\n狼牙\n交龙\n火线\n电创\n速加网笃行\n领志科技\n雷霆\nLZAresVsLT_BO2_2_361.jpg\n狼牙\n交龙\n火线\n电创\n速加网笃行\n领志科技\n雷霆\nLZAresVsLT_BO2_2_362.jpg\n狼牙\n交龙\n火线\n电创\n速加网笃行\n领志科技\n雷霆\nLZAresVsLT_BO2_2_363.jpg\n狼牙\n交龙\n火线\n电创\n速加网笃行\n领志科技\n雷霆\nLZAresVsLT_BO2_2_364.jpg\n狼牙\n交龙\n火线\n电创\n速加网笃行\n领志科技\n雷霆\nLZAresVsLT_BO2_2_365.jpg\n狼牙\n交龙\n火线\n电创\n速加网笃行\n领志科技\n雷霆\nLZAresVsLT_BO2_2_366.jpg\n狼牙\n交龙\n火线\n电创\n速加网笃行\n领志科技\n雷霆\nLZAresVsLT_BO2_2_367.jpg\n狼牙\n交龙\n火线\n电创\n速加网笃行\n领志科技\n雷霆\nLZAresVsLT_BO2_2_368.jpg\n狼牙\n交龙\n火线\n电创\n速加网笃行\n领志科技\n雷霆\nLZAresVsLT_BO2_2_369.jpg\n狼牙\n交龙\n火线\n电创\n速加网笃行\n领志科技\n雷霆\nLZAresVsLT_BO2_2_37.jpg\n狼牙\n交龙\n火线\n电创\n速加网笃行\n领志科技\n雷霆\nLZAresVsLT_BO2_2_370.jpg\n狼牙\n交龙\n火线\n电创\n速加网笃行\n领志科技\n雷霆\nLZAresVsLT_BO2_2_371.jpg\n狼牙\n交龙\n火线\n电创\n速加网笃行\n领志科技\n雷霆\nLZAresVsLT_BO2_2_372.jpg\n狼牙\n交龙\n火线\n电创\n速加网笃行\n领志科技\n雷霆\nLZAresVsLT_BO2_2_373.jpg\n狼牙\n交龙\n火线\n电创\n速加网笃行\n领志科技\n雷霆\nLZAresVsLT_BO2_2_374.jpg\n狼牙\n交龙\n火线\n电创\n速加网笃行\n领志科技\n雷霆\nLZAresVsLT_BO2_2_375.jpg\n狼牙\n交龙\n火线\n电创\n速加网笃行\n领志科技\n雷霆\nLZAresVsLT_BO2_2_376.jpg\n狼牙\n交龙\n火线\n电创\n速加网笃行\n领志科技\n雷霆\nLZAresVsLT_BO2_2_377.jpg\n狼牙\n交龙\n火线\n电创\n速加网笃行\n领志科技\n雷霆\nLZAresVsLT_BO2_2_378.jpg\n狼牙\n交龙\n火线\n电创\n速加网笃行\n领志科技\n雷霆\nLZAresVsLT_BO2_2_379.jpg\n狼牙\n交龙\n火线\n电创\n速加网笃行\n领志科技\n雷霆\nLZAresVsLT_BO2_2_38.jpg\n狼牙\n交龙\n火线\n电创\n速加网笃行\n领志科技\n雷霆\nLZAresVsLT_BO2_2_380.jpg\n狼牙\n交龙\n火线\n电创\n速加网笃行\n领志科技\n雷霆\nLZAresVsLT_BO2_2_381.jpg\n狼牙\n交龙\n火线\n电创\n速加网笃行\n领志科技\n雷霆\nLZAresVsLT_BO2_2_382.jpg\n狼牙\n交龙\n火线\n电创\n速加网笃行\n领志科技\n雷霆\nLZAresVsLT_BO2_2_383.jpg\n狼牙\n交龙\n火线\n电创\n速加网笃行\n领志科技\n雷霆\nLZAresVsLT_BO2_2_384.jpg\n狼牙\n交龙\n火线\n电创\n速加网笃行\n领志科技\n雷霆\nLZAresVsLT_BO2_2_385.jpg\n狼牙\n交龙\n火线\n电创\n速加网笃行\n领志科技\n雷霆\nLZAresVsLT_BO2_2_386.jpg\n狼牙\n交龙\n火线\n电创\n速加网笃行\n领志科技\n雷霆\nLZAresVsLT_BO2_2_387.jpg\n狼牙\n交龙\n火线\n电创\n速加网笃行\n领志科技\n雷霆\nLZAresVsLT_BO2_2_388.jpg\n狼牙\n交龙\n火线\n电创\n速加网笃行\n领志科技\n雷霆\nLZAresVsLT_BO2_2_389.jpg\n狼牙\n交龙\n火线\n电创\n速加网笃行\n领志科技\n雷霆\nLZAresVsLT_BO2_2_39.jpg\n狼牙\n交龙\n火线\n电创\n速加网笃行\n领志科技\n雷霆\nLZAresVsLT_BO2_2_390.jpg\n狼牙\n交龙\n火线\n电创\n速加网笃行\n领志科技\n雷霆\nLZAresVsLT_BO2_2_391.jpg\n狼牙\n交龙\n火线\n电创\n速加网笃行\n领志科技\n雷霆\nLZAresVsLT_BO2_2_392.jpg\n狼牙\n交龙\n火线\n电创\n速加网笃行\n领志科技\n雷霆\nLZAresVsLT_BO2_2_393.jpg\n狼牙\n交龙\n火线\n电创\n速加网笃行\n领志科技\n雷霆\nLZAresVsLT_BO2_2_394.jpg\n狼牙\n交龙\n火线\n电创\n速加网笃行\n领志科技\n雷霆\nLZAresVsLT_BO2_2_395.jpg\n狼牙\n交龙\n火线\n电创\n速加网笃行\n领志科技\n雷霆\nLZAresVsLT_BO2_2_396.jpg\n狼牙\n交龙\n火线\n电创\n速加网笃行\n领志科技\n雷霆\nLZAresVsLT_BO2_2_397.jpg\n狼牙\n交龙\n火线\n电创\n速加网笃行\n领志科技\n雷霆\nLZAresVsLT_BO2_2_398.jpg\n狼牙\n交龙\n火线\n电创\n速加网笃行\n领志科技\n雷霆\nLZAresVsLT_BO2_2_399.jpg\n狼牙\n交龙\n火线\n电创\n速加网笃行\n领志科技\n雷霆\nLZAresVsLT_BO2_2_4.jpg\n狼牙\n交龙\n火线\n电创\n速加网笃行\n领志科技\n雷霆\nLZAresVsLT_BO2_2_40.jpg\n狼牙\n交龙\n火线\n电创\n速加网笃行\n领志科技\n雷霆\nLZAresVsLT_BO2_2_400.jpg\n狼牙\n交龙\n火线\n电创\n速加网笃行\n领志科技\n雷霆\nLZAresVsLT_BO2_2_401.jpg\n狼牙\n交龙\n火线\n电创\n速加网笃行\n领志科技\n雷霆\nLZAresVsLT_BO2_2_402.jpg\n狼牙\n交龙\n火线\n电创\n速加网笃行\n领志科技\n雷霆\nLZAresVsLT_BO2_2_403.jpg\n狼牙\n交龙\n火线\n电创\n速加网笃行\n领志科技\n雷霆\nLZAresVsLT_BO2_2_404.jpg\n狼牙\n交龙\n火线\n电创\n速加网笃行\n领志科技\n雷霆\nLZAresVsLT_BO2_2_405.jpg\n狼牙\n交龙\n火线\n电创\n速加网笃行\n领志科技\n雷霆\nLZAresVsLT_BO2_2_406.jpg\n狼牙\n交龙\n火线\n电创\n速加网笃行\n领志科技\n雷霆\nLZAresVsLT_BO2_2_407.jpg\n狼牙\n交龙\n火线\n电创\n速加网笃行\n领志科技\n雷霆\nLZAresVsLT_BO2_2_408.jpg\n狼牙\n交龙\n火线\n电创\n速加网笃行\n领志科技\n雷霆\nLZAresVsLT_BO2_2_409.jpg\n狼牙\n交龙\n火线\n电创\n速加网笃行\n领志科技\n雷霆\nLZAresVsLT_BO2_2_41.jpg\n狼牙\n交龙\n火线\n电创\n速加网笃行\n领志科技\n雷霆\nLZAresVsLT_BO2_2_410.jpg\n狼牙\n交龙\n火线\n电创\n速加网笃行\n领志科技\n雷霆\nLZAresVsLT_BO2_2_411.jpg\n狼牙\n交龙\n火线\n电创\n速加网笃行\n领志科技\n雷霆\nLZAresVsLT_BO2_2_412.jpg\n狼牙\n交龙\n火线\n电创\n速加网笃行\n领志科技\n雷霆\nLZAresVsLT_BO2_2_413.jpg\n狼牙\n交龙\n火线\n电创\n速加网笃行\n领志科技\n雷霆\nLZAresVsLT_BO2_2_414.jpg\n狼牙\n交龙\n火线\n电创\n速加网笃行\n领志科技\n雷霆\nLZAresVsLT_BO2_2_415.jpg\n狼牙\n交龙\n火线\n电创\n速加网笃行\n领志科技\n雷霆\nLZAresVsLT_BO2_2_416.jpg\n狼牙\n交龙\n火线\n电创\n速加网笃行\n领志科技\n雷霆\nLZAresVsLT_BO2_2_417.jpg\n狼牙\n交龙\n火线\n电创\n速加网笃行\n领志科技\n雷霆\nLZAresVsLT_BO2_2_418.jpg\n狼牙\n交龙\n火线\n电创\n速加网笃行\n领志科技\n雷霆\nLZAresVsLT_BO2_2_419.jpg\n狼牙\n交龙\n火线\n电创\n速加网笃行\n领志科技\n雷霆\nLZAresVsLT_BO2_2_42.jpg\n狼牙\n交龙\n火线\n电创\n速加网笃行\n领志科技\n雷霆\nLZAresVsLT_BO2_2_43.jpg\n狼牙\n交龙\n火线\n电创\n速加网笃行\n领志科技\n雷霆\nLZAresVsLT_BO2_2_44.jpg\n狼牙\n交龙\n火线\n电创\n速加网笃行\n领志科技\n雷霆\nLZAresVsLT_BO2_2_45.jpg\n狼牙\n交龙\n火线\n电创\n速加网笃行\n领志科技\n雷霆\nLZAresVsLT_BO2_2_46.jpg\n狼牙\n交龙\n火线\n电创\n速加网笃行\n领志科技\n雷霆\nLZAresVsLT_BO2_2_47.jpg\n狼牙\n交龙\n火线\n电创\n速加网笃行\n领志科技\n雷霆\nLZAresVsLT_BO2_2_48.jpg\n狼牙\n交龙\n火线\n电创\n速加网笃行\n领志科技\n雷霆\nLZAresVsLT_BO2_2_49.jpg\n狼牙\n交龙\n火线\n电创\n速加网笃行\n领志科技\n雷霆\nLZAresVsLT_BO2_2_5.jpg\n狼牙\n交龙\n火线\n电创\n速加网笃行\n领志科技\n雷霆\nLZAresVsLT_BO2_2_50.jpg\n狼牙\n交龙\n火线\n电创\n速加网笃行\n领志科技\n雷霆\nLZAresVsLT_BO2_2_51.jpg\n狼牙\n交龙\n火线\n电创\n速加网笃行\n领志科技\n雷霆\nLZAresVsLT_BO2_2_52.jpg\n狼牙\n交龙\n火线\n电创\n速加网笃行\n领志科技\n雷霆\nLZAresVsLT_BO2_2_53.jpg\n狼牙\n交龙\n火线\n电创\n速加网笃行\n领志科技\n雷霆\nLZAresVsLT_BO2_2_54.jpg\n狼牙\n交龙\n火线\n电创\n速加网笃行\n领志科技\n雷霆\nLZAresVsLT_BO2_2_55.jpg\n狼牙\n交龙\n火线\n电创\n速加网笃行\n领志科技\n雷霆\nLZAresVsLT_BO2_2_56.jpg\n狼牙\n交龙\n火线\n电创\n速加网笃行\n领志科技\n雷霆\nLZAresVsLT_BO2_2_57.jpg\n狼牙\n交龙\n火线\n电创\n速加网笃行\n领志科技\n雷霆\nLZAresVsLT_BO2_2_58.jpg\n狼牙\n交龙\n火线\n电创\n速加网笃行\n领志科技\n雷霆\nLZAresVsLT_BO2_2_59.jpg\n狼牙\n交龙\n火线\n电创\n速加网笃行\n领志科技\n雷霆\nLZAresVsLT_BO2_2_6.jpg\n狼牙\n交龙\n火线\n电创\n速加网笃行\n领志科技\n雷霆\nLZAresVsLT_BO2_2_60.jpg\n狼牙\n交龙\n火线\n电创\n速加网笃行\n领志科技\n雷霆\nLZAresVsLT_BO2_2_61.jpg\n狼牙\n交龙\n火线\n电创\n速加网笃行\n领志科技\n雷霆\nLZAresVsLT_BO2_2_62.jpg\n狼牙\n交龙\n火线\n电创\n速加网笃行\n领志科技\n雷霆\nLZAresVsLT_BO2_2_63.jpg\n狼牙\n交龙\n火线\n电创\n速加网笃行\n领志科技\n雷霆\nLZAresVsLT_BO2_2_64.jpg\n狼牙\n交龙\n火线\n电创\n速加网笃行\n领志科技\n雷霆\nLZAresVsLT_BO2_2_65.jpg\n狼牙\n交龙\n火线\n电创\n速加网笃行\n领志科技\n雷霆\nLZAresVsLT_BO2_2_66.jpg\n狼牙\n交龙\n火线\n电创\n速加网笃行\n领志科技\n雷霆\nLZAresVsLT_BO2_2_67.jpg\n狼牙\n交龙\n火线\n电创\n速加网笃行\n领志科技\n雷霆\nLZAresVsLT_BO2_2_68.jpg\n狼牙\n交龙\n火线\n电创\n速加网笃行\n领志科技\n雷霆\nLZAresVsLT_BO2_2_69.jpg\n狼牙\n交龙\n火线\n电创\n速加网笃行\n领志科技\n雷霆\nLZAresVsLT_BO2_2_7.jpg\n狼牙\n交龙\n火线\n电创\n速加网笃行\n领志科技\n雷霆\nLZAresVsLT_BO2_2_70.jpg\n狼牙\n交龙\n火线\n电创\n速加网笃行\n领志科技\n雷霆\nLZAresVsLT_BO2_2_71.jpg\n狼牙\n交龙\n火线\n电创\n速加网笃行\n领志科技\n雷霆\nLZAresVsLT_BO2_2_72.jpg\n狼牙\n交龙\n火线\n电创\n速加网笃行\n领志科技\n雷霆\nLZAresVsLT_BO2_2_73.jpg\n狼牙\n交龙\n火线\n电创\n速加网笃行\n领志科技\n雷霆\nLZAresVsLT_BO2_2_74.jpg\n狼牙\n交龙\n火线\n电创\n速加网笃行\n领志科技\n雷霆\nLZAresVsLT_BO2_2_75.jpg\n狼牙\n交龙\n火线\n电创\n速加网笃行\n领志科技\n雷霆\nLZAresVsLT_BO2_2_76.jpg\n狼牙\n交龙\n火线\n电创\n速加网笃行\n领志科技\n雷霆\nLZAresVsLT_BO2_2_77.jpg\n狼牙\n交龙\n火线\n电创\n速加网笃行\n领志科技\n雷霆\nLZAresVsLT_BO2_2_78.jpg\n狼牙\n交龙\n火线\n电创\n速加网笃行\n领志科技\n雷霆\nLZAresVsLT_BO2_2_79.jpg\n狼牙\n交龙\n火线\n电创\n速加网笃行\n领志科技\n雷霆\nLZAresVsLT_BO2_2_8.jpg\n狼牙\n交龙\n火线\n电创\n速加网笃行\n领志科技\n雷霆\nLZAresVsLT_BO2_2_80.jpg\n狼牙\n交龙\n火线\n电创\n速加网笃行\n领志科技\n雷霆\nLZAresVsLT_BO2_2_81.jpg\n狼牙\n交龙\n火线\n电创\n速加网笃行\n领志科技\n雷霆\nLZAresVsLT_BO2_2_82.jpg\n狼牙\n交龙\n火线\n电创\n速加网笃行\n领志科技\n雷霆\nLZAresVsLT_BO2_2_83.jpg\n狼牙\n交龙\n火线\n电创\n速加网笃行\n领志科技\n雷霆\nLZAresVsLT_BO2_2_84.jpg\n狼牙\n交龙\n火线\n电创\n速加网笃行\n领志科技\n雷霆\nLZAresVsLT_BO2_2_85.jpg\n狼牙\n交龙\n火线\n电创\n速加网笃行\n领志科技\n雷霆\nLZAresVsLT_BO2_2_86.jpg\n狼牙\n交龙\n火线\n电创\n速加网笃行\n领志科技\n雷霆\nLZAresVsLT_BO2_2_87.jpg\n狼牙\n交龙\n火线\n电创\n速加网笃行\n领志科技\n雷霆\nLZAresVsLT_BO2_2_88.jpg\n狼牙\n交龙\n火线\n电创\n速加网笃行\n领志科技\n雷霆\nLZAresVsLT_BO2_2_89.jpg\n狼牙\n交龙\n火线\n电创\n速加网笃行\n领志科技\n雷霆\nLZAresVsLT_BO2_2_9.jpg\n狼牙\n交龙\n火线\n电创\n速加网笃行\n领志科技\n雷霆\nLZAresVsLT_BO2_2_90.jpg\n狼牙\n交龙\n火线\n电创\n速加网笃行\n领志科技\n雷霆\nLZAresVsLT_BO2_2_91.jpg\n狼牙\n交龙\n火线\n电创\n速加网笃行\n领志科技\n雷霆\nLZAresVsLT_BO2_2_92.jpg\n狼牙\n交龙\n火线\n电创\n速加网笃行\n领志科技\n雷霆\nLZAresVsLT_BO2_2_93.jpg\n狼牙\n交龙\n火线\n电创\n速加网笃行\n领志科技\n雷霆\nLZAresVsLT_BO2_2_94.jpg\n狼牙\n交龙\n火线\n电创\n速加网笃行\n领志科技\n雷霆\nLZAresVsLT_BO2_2_95.jpg\n狼牙\n交龙\n火线\n电创\n速加网笃行\n领志科技\n雷霆\nLZAresVsLT_BO2_2_96.jpg\n狼牙\n交龙\n火线\n电创\n速加网笃行\n领志科技\n雷霆\nLZAresVsLT_BO2_2_97.jpg\n狼牙\n交龙\n火线\n电创\n速加网笃行\n领志科技\n雷霆\nLZAresVsLT_BO2_2_98.jpg\n狼牙\n交龙\n火线\n电创\n速加网笃行\n领志科技\n雷霆\nLZAresVsLT_BO2_2_99.jpg\n"
    }
   ],
   "source": [
    "for f in os.listdir(r'F:\\RM\\DJI ROCO\\robomaster_Central China Regional Competition\\image'):\n",
    "    f_new = f\n",
    "    for key in mapping.keys():\n",
    "        f_new = f_new.replace(key, mapping[key])\n",
    "    os.rename(r'F:\\RM\\DJI ROCO\\robomaster_Central China Regional Competition\\image'+ '\\\\' + f, r'F:\\RM\\DJI ROCO\\robomaster_Central China Regional Competition\\image'+ '\\\\'+ f_new)"
   ]
  },
  {
   "cell_type": "code",
   "execution_count": 18,
   "metadata": {},
   "outputs": [
    {
     "output_type": "execute_result",
     "data": {
      "text/plain": "'LZAresVsLT_BO2_2_159.xml'"
     },
     "metadata": {},
     "execution_count": 18
    }
   ],
   "source": [
    "\"领志科技AresVsLT_BO2_2_159.xml\".replace(\"领志科技\", mapping[\"领志科技\"])"
   ]
  },
  {
   "cell_type": "code",
   "execution_count": 36,
   "metadata": {},
   "outputs": [
    {
     "output_type": "stream",
     "name": "stdout",
     "text": "['AllianceVsArtisans' 'DCVsRPS' 'EvolutionVs华南虎' 'HXVsBorn of Fire'\n 'Hello WorldVs逸仙狮' 'JLVsCUBOT' 'JSVsHLL' 'LZAresVsLT'\n 'RobotPilotsVsEvolution' 'SPRVsTOE' 'TDTVsI Hiter' 'VW' 'WMJVsLY'\n '中维动力VsRobotPilots' '追梦Vs追梦Team' '逸仙狮Vs新日成' '高巨毅恒VsRobotPilots'\n '高巨毅恒Vs华南虎']\n"
    }
   ],
   "source": [
    "from glob import glob\n",
    "all_file = glob(r'F:\\RM\\DJI ROCO\\robo*\\*\\*')\n",
    "temp = [t.split('\\\\')[-1].split(\"_\")[0] for t in all_file]\n",
    "print(np.unique(temp))\n"
   ]
  },
  {
   "cell_type": "code",
   "execution_count": 47,
   "metadata": {},
   "outputs": [],
   "source": [
    "mapping = {\n",
    "    \"华南虎\": 'HNH',\n",
    "    \"逸仙狮\": 'XYS',\n",
    "    \"中维动力\": 'ZWDL',\n",
    "    \"追梦\": 'ZM',\n",
    "    \"新日成\": 'XRC',\n",
    "    \"高巨毅恒\": \"GJYH\",\n",
    "    \"风暴\": \"FB\",\n",
    "    \"火锅\": \"HG\",\n",
    "    \"狼牙\": 'LY',\n",
    "    \"交龙\": 'JL',\n",
    "    \"火线\": 'HX',\n",
    "    \"电创\": 'DC',\n",
    "    \"速加网笃行\": 'JS',\n",
    "    \"领志科技\": \"LZ\",\n",
    "    \"雷霆\": \"LT\"\n",
    "}"
   ]
  },
  {
   "cell_type": "code",
   "execution_count": 51,
   "metadata": {
    "tags": [
     "outputPrepend",
     "outputPrepend",
     "outputPrepend",
     "outputPrepend",
     "outputPrepend",
     "outputPrepend",
     "outputPrepend",
     "outputPrepend",
     "outputPrepend",
     "outputPrepend",
     "outputPrepend",
     "outputPrepend",
     "outputPrepend",
     "outputPrepend",
     "outputPrepend",
     "outputPrepend",
     "outputPrepend",
     "outputPrepend",
     "outputPrepend",
     "outputPrepend",
     "outputPrepend",
     "outputPrepend",
     "outputPrepend",
     "outputPrepend",
     "outputPrepend",
     "outputPrepend",
     "outputPrepend",
     "outputPrepend",
     "outputPrepend",
     "outputPrepend",
     "outputPrepend",
     "outputPrepend",
     "outputPrepend",
     "outputPrepend",
     "outputPrepend",
     "outputPrepend",
     "outputPrepend",
     "outputPrepend",
     "outputPrepend",
     "outputPrepend",
     "outputPrepend",
     "outputPrepend"
    ]
   },
   "outputs": [],
   "source": [
    "all_file = glob(r'F:\\RM\\DJI_ROCO\\robo*\\*\\*')\n",
    "for f in all_file:\n",
    "    f_new = f.replace(\" \", \"_\")\n",
    "    # for key in mapping.keys():\n",
    "    #     f_new = f_new.replace(key, mapping[key])\n",
    "    \n",
    "    os.rename(f, f_new)"
   ]
  },
  {
   "cell_type": "code",
   "execution_count": 42,
   "metadata": {},
   "outputs": [
    {
     "output_type": "stream",
     "name": "stdout",
     "text": "['AllianceVsArtisans' 'DCVsRPS' 'EvolutionVs华南虎' 'HXVsBorn of Fire'\n 'Hello WorldVs逸仙狮' 'JLVsCUBOT' 'JSVsHLL' 'LZAresVsLT'\n 'RobotPilotsVsEvolution' 'SPRVsTOE' 'TDTVsI Hiter' 'VW' 'WMJVsLY'\n '中维动力VsRobotPilots' '追梦Vs追梦Team' '逸仙狮Vs新日成' '高巨毅恒VsRobotPilots'\n '高巨毅恒Vs华南虎']\n"
    }
   ],
   "source": [
    "temp = glob(r'F:\\RM\\DJI ROCO\\robo*\\*\\*')\n",
    "temp = [t.split('\\\\')[-1].split(\"_\")[0] for t in temp]\n",
    "print(np.unique(temp))"
   ]
  },
  {
   "cell_type": "code",
   "execution_count": 1,
   "metadata": {},
   "outputs": [],
   "source": [
    "from train import *"
   ]
  },
  {
   "cell_type": "code",
   "execution_count": 2,
   "metadata": {},
   "outputs": [],
   "source": [
    "lines = open(\"train.txt\").readlines()"
   ]
  },
  {
   "cell_type": "code",
   "execution_count": 3,
   "metadata": {},
   "outputs": [
    {
     "output_type": "stream",
     "name": "stdout",
     "text": "Done\nDone\nDone\nDone\nDone\nDone\nDone\nDone\n5.04 s ± 119 ms per loop (mean ± std. dev. of 7 runs, 1 loop each)\n"
    }
   ],
   "source": [
    "%%timeit\n",
    "i = 0\n",
    "for x,y in data_generator(lines[:9300], 8, (416, 416), get_anchors(\"model_data/yolo_anchors.txt\"), 3):\n",
    "    i += 1\n",
    "    if i == 8:break\n",
    "print(\"Done\")"
   ]
  },
  {
   "cell_type": "code",
   "execution_count": 4,
   "metadata": {},
   "outputs": [
    {
     "output_type": "stream",
     "name": "stdout",
     "text": "2\n3\n2\n3\n3\n4\n"
    },
    {
     "output_type": "execute_result",
     "data": {
      "text/plain": "array([None, None], dtype=object)"
     },
     "metadata": {},
     "execution_count": 4
    }
   ],
   "source": [
    "import numpy as np \n",
    "def fun(a, b=(1,2)):\n",
    "    x,y = b\n",
    "    print(x+a)\n",
    "    print(y+a)\n",
    "vfunc = np.vectorize(fun)\n",
    "vfunc([1,2])\n"
   ]
  },
  {
   "cell_type": "code",
   "execution_count": 7,
   "metadata": {},
   "outputs": [
    {
     "output_type": "error",
     "ename": "ValueError",
     "evalue": "setting an array element with a sequence.",
     "traceback": [
      "\u001b[1;31m---------------------------------------------------------------------------\u001b[0m",
      "\u001b[1;31mTypeError\u001b[0m                                 Traceback (most recent call last)",
      "\u001b[1;31mTypeError\u001b[0m: only size-1 arrays can be converted to Python scalars",
      "\nThe above exception was the direct cause of the following exception:\n",
      "\u001b[1;31mValueError\u001b[0m                                Traceback (most recent call last)",
      "\u001b[1;32m<ipython-input-7-fb5bb49c96e7>\u001b[0m in \u001b[0;36m<module>\u001b[1;34m\u001b[0m\n\u001b[0;32m      1\u001b[0m \u001b[1;32mimport\u001b[0m \u001b[0mnumpy\u001b[0m \u001b[1;32mas\u001b[0m \u001b[0mnp\u001b[0m\u001b[1;33m\u001b[0m\u001b[1;33m\u001b[0m\u001b[0m\n\u001b[0;32m      2\u001b[0m \u001b[0mvfunc\u001b[0m \u001b[1;33m=\u001b[0m \u001b[0mnp\u001b[0m\u001b[1;33m.\u001b[0m\u001b[0mvectorize\u001b[0m\u001b[1;33m(\u001b[0m\u001b[0mget_random_data\u001b[0m\u001b[1;33m)\u001b[0m\u001b[1;33m\u001b[0m\u001b[1;33m\u001b[0m\u001b[0m\n\u001b[1;32m----> 3\u001b[1;33m \u001b[0mvfunc\u001b[0m\u001b[1;33m(\u001b[0m\u001b[0mlines\u001b[0m\u001b[1;33m[\u001b[0m\u001b[1;33m:\u001b[0m\u001b[1;36m8\u001b[0m\u001b[1;33m]\u001b[0m\u001b[1;33m)\u001b[0m\u001b[1;33m[\u001b[0m\u001b[1;36m0\u001b[0m\u001b[1;33m]\u001b[0m\u001b[1;33m\u001b[0m\u001b[1;33m\u001b[0m\u001b[0m\n\u001b[0m",
      "\u001b[1;32m~\\.conda\\envs\\deep_stock\\lib\\site-packages\\numpy\\lib\\function_base.py\u001b[0m in \u001b[0;36m__call__\u001b[1;34m(self, *args, **kwargs)\u001b[0m\n\u001b[0;32m   2089\u001b[0m             \u001b[0mvargs\u001b[0m\u001b[1;33m.\u001b[0m\u001b[0mextend\u001b[0m\u001b[1;33m(\u001b[0m\u001b[1;33m[\u001b[0m\u001b[0mkwargs\u001b[0m\u001b[1;33m[\u001b[0m\u001b[0m_n\u001b[0m\u001b[1;33m]\u001b[0m \u001b[1;32mfor\u001b[0m \u001b[0m_n\u001b[0m \u001b[1;32min\u001b[0m \u001b[0mnames\u001b[0m\u001b[1;33m]\u001b[0m\u001b[1;33m)\u001b[0m\u001b[1;33m\u001b[0m\u001b[1;33m\u001b[0m\u001b[0m\n\u001b[0;32m   2090\u001b[0m \u001b[1;33m\u001b[0m\u001b[0m\n\u001b[1;32m-> 2091\u001b[1;33m         \u001b[1;32mreturn\u001b[0m \u001b[0mself\u001b[0m\u001b[1;33m.\u001b[0m\u001b[0m_vectorize_call\u001b[0m\u001b[1;33m(\u001b[0m\u001b[0mfunc\u001b[0m\u001b[1;33m=\u001b[0m\u001b[0mfunc\u001b[0m\u001b[1;33m,\u001b[0m \u001b[0margs\u001b[0m\u001b[1;33m=\u001b[0m\u001b[0mvargs\u001b[0m\u001b[1;33m)\u001b[0m\u001b[1;33m\u001b[0m\u001b[1;33m\u001b[0m\u001b[0m\n\u001b[0m\u001b[0;32m   2092\u001b[0m \u001b[1;33m\u001b[0m\u001b[0m\n\u001b[0;32m   2093\u001b[0m     \u001b[1;32mdef\u001b[0m \u001b[0m_get_ufunc_and_otypes\u001b[0m\u001b[1;33m(\u001b[0m\u001b[0mself\u001b[0m\u001b[1;33m,\u001b[0m \u001b[0mfunc\u001b[0m\u001b[1;33m,\u001b[0m \u001b[0margs\u001b[0m\u001b[1;33m)\u001b[0m\u001b[1;33m:\u001b[0m\u001b[1;33m\u001b[0m\u001b[1;33m\u001b[0m\u001b[0m\n",
      "\u001b[1;32m~\\.conda\\envs\\deep_stock\\lib\\site-packages\\numpy\\lib\\function_base.py\u001b[0m in \u001b[0;36m_vectorize_call\u001b[1;34m(self, func, args)\u001b[0m\n\u001b[0;32m   2171\u001b[0m             \u001b[1;32melse\u001b[0m\u001b[1;33m:\u001b[0m\u001b[1;33m\u001b[0m\u001b[1;33m\u001b[0m\u001b[0m\n\u001b[0;32m   2172\u001b[0m                 res = tuple([array(x, copy=False, subok=True, dtype=t)\n\u001b[1;32m-> 2173\u001b[1;33m                              for x, t in zip(outputs, otypes)])\n\u001b[0m\u001b[0;32m   2174\u001b[0m         \u001b[1;32mreturn\u001b[0m \u001b[0mres\u001b[0m\u001b[1;33m\u001b[0m\u001b[1;33m\u001b[0m\u001b[0m\n\u001b[0;32m   2175\u001b[0m \u001b[1;33m\u001b[0m\u001b[0m\n",
      "\u001b[1;32m~\\.conda\\envs\\deep_stock\\lib\\site-packages\\numpy\\lib\\function_base.py\u001b[0m in \u001b[0;36m<listcomp>\u001b[1;34m(.0)\u001b[0m\n\u001b[0;32m   2171\u001b[0m             \u001b[1;32melse\u001b[0m\u001b[1;33m:\u001b[0m\u001b[1;33m\u001b[0m\u001b[1;33m\u001b[0m\u001b[0m\n\u001b[0;32m   2172\u001b[0m                 res = tuple([array(x, copy=False, subok=True, dtype=t)\n\u001b[1;32m-> 2173\u001b[1;33m                              for x, t in zip(outputs, otypes)])\n\u001b[0m\u001b[0;32m   2174\u001b[0m         \u001b[1;32mreturn\u001b[0m \u001b[0mres\u001b[0m\u001b[1;33m\u001b[0m\u001b[1;33m\u001b[0m\u001b[0m\n\u001b[0;32m   2175\u001b[0m \u001b[1;33m\u001b[0m\u001b[0m\n",
      "\u001b[1;31mValueError\u001b[0m: setting an array element with a sequence."
     ]
    }
   ],
   "source": [
    "import numpy as np\n",
    "vfunc = np.vectorize(get_random_data)\n"
   ]
  },
  {
   "cell_type": "code",
   "execution_count": 14,
   "metadata": {
    "tags": [
     "outputPrepend"
    ]
   },
   "outputs": [
    {
     "output_type": "stream",
     "name": "stdout",
     "text": "(8, 20, 5)\n"
    }
   ],
   "source": [
    "res = np.array([get_random_data(l) for l in lines[:8]])\n",
    "x = np.array([r for r in res[:,1]])\n",
    "print(x.shape)"
   ]
  },
  {
   "cell_type": "code",
   "execution_count": 4,
   "metadata": {},
   "outputs": [
    {
     "output_type": "execute_result",
     "data": {
      "text/plain": "5"
     },
     "metadata": {},
     "execution_count": 4
    }
   ],
   "source": [
    "s = [i for i in range(0,100)]\n",
    "len(s[0:5])"
   ]
  },
  {
   "cell_type": "code",
   "execution_count": 8,
   "metadata": {},
   "outputs": [],
   "source": [
    "from multiprocessing import Pool"
   ]
  },
  {
   "cell_type": "code",
   "execution_count": 22,
   "metadata": {},
   "outputs": [
    {
     "output_type": "stream",
     "name": "stdout",
     "text": "?\nwtf\n(8, 416, 416, 3) (8, 20, 5)\n"
    }
   ],
   "source": [
    "# %%timeit\n",
    "def func():\n",
    "    with Pool(8) as p:\n",
    "        res = np.array(p.map(get_random_data, lines[:8]))\n",
    "        x = np.array([r for r in res[:,0]])\n",
    "        y = np.array([r for r in res[:,1]])\n",
    "        #p.close()\n",
    "    return x,y\n",
    "x,y = func()\n",
    "print(\"wtf\")\n",
    "print(x.shape, y.shape)\n",
    "\n"
   ]
  },
  {
   "cell_type": "code",
   "execution_count": 15,
   "metadata": {},
   "outputs": [
    {
     "output_type": "stream",
     "name": "stdout",
     "text": "(8, 416, 416, 3) (8, 20, 5)\n(8, 416, 416, 3) (8, 20, 5)\n(8, 416, 416, 3) (8, 20, 5)\n(8, 416, 416, 3) (8, 20, 5)\n(8, 416, 416, 3) (8, 20, 5)\n(8, 416, 416, 3) (8, 20, 5)\n(8, 416, 416, 3) (8, 20, 5)\n(8, 416, 416, 3) (8, 20, 5)\n817 ms ± 13.4 ms per loop (mean ± std. dev. of 7 runs, 1 loop each)\n"
    }
   ],
   "source": [
    "%%timeit\n",
    "\n",
    "i=0\n",
    "image_data = []\n",
    "box_data = []\n",
    "for b in range(8):\n",
    "    if i==0:\n",
    "        np.random.shuffle(lines)\n",
    "    image, box = get_random_data(lines[i])\n",
    "    image_data.append(image)\n",
    "    box_data.append(box)\n",
    "    i = (i+1) % 9300\n",
    "image_data = np.array(image_data)\n",
    "box_data = np.array(box_data)\n",
    "print(image_data.shape, box_data.shape)"
   ]
  },
  {
   "cell_type": "code",
   "execution_count": null,
   "metadata": {},
   "outputs": [],
   "source": []
  }
 ],
 "metadata": {
  "language_info": {
   "codemirror_mode": {
    "name": "ipython",
    "version": 3
   },
   "file_extension": ".py",
   "mimetype": "text/x-python",
   "name": "python",
   "nbconvert_exporter": "python",
   "pygments_lexer": "ipython3",
   "version": "3.7.7-final"
  },
  "orig_nbformat": 2,
  "kernelspec": {
   "name": "python37764bitdeepstockconda6a65e5110688433ea1dd1a73ca9a87ac",
   "display_name": "Python 3.7.7 64-bit ('deep_stock': conda)"
  }
 },
 "nbformat": 4,
 "nbformat_minor": 2
}